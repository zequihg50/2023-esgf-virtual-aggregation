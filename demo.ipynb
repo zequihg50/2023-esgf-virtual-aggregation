{
 "cells": [
  {
   "cell_type": "markdown",
   "id": "a36f6b86-e83c-437d-8141-50fdd52a4606",
   "metadata": {},
   "source": [
    "# The ESGF Virtual Aggregation\n",
    "\n",
    "The ESGF Virtual Aggregation is an analysis of a new proposed data workflow and a companion dataset that aims to advance the sharing and reuse of scientific climate data stored in the Earth System Grid Federation. The ESGF holds several petabytes of data distributed between data centers around the globe and the data workflow proposal enhances the federation, beyond file search and download, by allowing remote climate data analysis on data analysis ready, virtually aggregated, climate datasets. The companion dataset serves as demonstration of a viable implementation of the data workflow and it includes all CMIP6 data from ESGF up to 2022. The ESGF Virtual aggregation analysis serves as a test case for the viability of the data workflow and provides the basis for discussions on the future of the ESGF infrastructure, regarding the continuity of federation services such as OpenDAP and the Search REST API."
   ]
  },
  {
   "cell_type": "code",
   "execution_count": 4,
   "id": "bc4f0f88-576b-4006-af41-70c451083bda",
   "metadata": {},
   "outputs": [],
   "source": [
    "import xarray\n",
    "import dask"
   ]
  },
  {
   "cell_type": "code",
   "execution_count": 5,
   "id": "4b5fcaa9-b8ce-4cc6-a289-2e98a4845dfd",
   "metadata": {},
   "outputs": [
    {
     "data": {
      "text/plain": [
       "<dask.config.set at 0x7fe0f7fca590>"
      ]
     },
     "execution_count": 5,
     "metadata": {},
     "output_type": "execute_result"
    }
   ],
   "source": [
    "dask.config.set(scheduler=\"processes\")"
   ]
  },
  {
   "cell_type": "code",
   "execution_count": null,
   "id": "a43f3a59-5120-4942-8b40-b522eb484e4b",
   "metadata": {},
   "outputs": [],
   "source": [
    "dataset = "
   ]
  }
 ],
 "metadata": {
  "kernelspec": {
   "display_name": "Python 3 (ipykernel)",
   "language": "python",
   "name": "python3"
  },
  "language_info": {
   "codemirror_mode": {
    "name": "ipython",
    "version": 3
   },
   "file_extension": ".py",
   "mimetype": "text/x-python",
   "name": "python",
   "nbconvert_exporter": "python",
   "pygments_lexer": "ipython3",
   "version": "3.7.12"
  }
 },
 "nbformat": 4,
 "nbformat_minor": 5
}
