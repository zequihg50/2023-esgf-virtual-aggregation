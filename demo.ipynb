{
 "cells": [
  {
   "cell_type": "markdown",
   "id": "7aabc4b5-cbb4-4b57-90ef-a011bdeca6a0",
   "metadata": {},
   "source": [
    "# ESGF Virtual Aggregation\n",
    "\n",
    "The aim of this project is to create a ready-to-deploy TDS catalog including ALL available data in ESGF, using OPeNDAP endpoints to provide ESGF data analysis while avoiding the download of any data from remote repositories."
   ]
  },
  {
   "cell_type": "code",
   "execution_count": null,
   "id": "ce9ee22b-6f3d-4be1-9f0e-fda2b11ac431",
   "metadata": {},
   "outputs": [],
   "source": [
    "import time\n",
    "import psutil\n",
    "\n",
    "import xarray\n",
    "import dask\n",
    "\n",
    "import pandas as pd\n",
    "import seaborn as sns\n",
    "import matplotlib.pyplot as plt"
   ]
  },
  {
   "cell_type": "code",
   "execution_count": null,
   "id": "fa5550ba-18dd-44ac-8ceb-f89c43494b25",
   "metadata": {},
   "outputs": [],
   "source": [
    "dask.config.set(scheduler=\"processes\")"
   ]
  },
  {
   "cell_type": "markdown",
   "id": "46f8ca7f-121d-42d7-a2d1-e3ebe9958854",
   "metadata": {},
   "source": [
    "## Baseline OPeNDAP performance test\n",
    "\n",
    "This is a baseline performance test, targeting a data server unrelated to ESGF. The purpose is to get a baseline to compare performance of ESGF data nodes."
   ]
  },
  {
   "cell_type": "code",
   "execution_count": null,
   "id": "6ee27c9d-ad64-4f0e-ac78-4bf7f95be64b",
   "metadata": {},
   "outputs": [],
   "source": [
    "# NcML - 72 netCDF files inside and 9 variables (9 join existing aggregations of 8 files each, plus the union)\n",
    "dataset = \"https://hub.climate4r.ifca.es/thredds/dodsC/ncmls/ESGF/interp025/CORDEX/output/AFR-22/GERICS/MOHC-HadGEM2-ES/historical/r1i1p1/REMO2015/v1/day/CORDEX_output_AFR-22_GERICS_MOHC-HadGEM2-ES_historical_r1i1p1_REMO2015_v1_day_v20191015.ncml\"\n",
    "\n",
    "ds = xarray.open_dataset(dataset).chunk({\"time\": 100})\n",
    "v = ds[\"tas\"]\n",
    "v"
   ]
  },
  {
   "cell_type": "code",
   "execution_count": null,
   "id": "d9b710f2-6ffd-44ee-8337-50b3e70a884a",
   "metadata": {},
   "outputs": [],
   "source": [
    "%time v.mean().compute(num_workers=4)"
   ]
  },
  {
   "cell_type": "markdown",
   "id": "a85f4292-99d3-4600-a8ad-b83b7e59f975",
   "metadata": {},
   "source": [
    "## ESGF data node testing\n",
    "\n",
    "Let's start testing using a NcML with few netCDFs inside."
   ]
  },
  {
   "cell_type": "code",
   "execution_count": null,
   "id": "99772cc0-c436-468e-a3b5-41c120046289",
   "metadata": {},
   "outputs": [],
   "source": [
    "# NcML - 5 netCDF files inside and 1 variable (5 join existing aggregations of 1 file each)\n",
    "dataset = \"https://hub.ipcc.ifca.es/thredds/dodsC/esgeva/ensemble/CMIP6/ScenarioMIP/day/CMIP6_ScenarioMIP_CNRM-CERFACS_CNRM-CM6-1_ssp245_day_gr_v20190410/replicas/aims3.llnl.gov/CMIP6_ScenarioMIP_CNRM-CERFACS_CNRM-CM6-1_ssp245_day_tas_gr_v20190410_aims3.llnl.gov.ncml\"\n",
    "\n",
    "ds = xarray.open_dataset(dataset).chunk({\"variant_label\": 1, \"time\": 400})\n",
    "v = ds[\"tas\"]\n",
    "v"
   ]
  },
  {
   "cell_type": "code",
   "execution_count": null,
   "id": "82345a8f-f26c-40c5-92e3-d3cb30c35074",
   "metadata": {},
   "outputs": [],
   "source": [
    "%time a = v.mean([\"lat\", \"lon\"]).compute(num_workers=4)"
   ]
  },
  {
   "cell_type": "code",
   "execution_count": null,
   "id": "739c55c3-aa64-4a2a-8b8d-0ca37ba17ebd",
   "metadata": {},
   "outputs": [],
   "source": [
    "a.resample({\"time\": \"Y\"}).mean().plot.line(x=\"time\")"
   ]
  },
  {
   "cell_type": "markdown",
   "id": "3e4f0790-17f0-456d-a12a-5df7941152c9",
   "metadata": {},
   "source": [
    "## ESGF with larger NcML\n",
    "\n",
    "If we test larger NcMLs, specifically at lower temporal resolution, we start to see timeouts and different OPeNDAP errors.\n",
    "\n",
    "This is caused by both bad chunking in the netCDF files in the time coordinate and multiple DDS and DAS requests from OPeNDAP. A chunk size of 1 makes the BTree of the variable unncessary large and kills performance.\n",
    "\n",
    "The following is an example of this. An alternative NcML is provided in which the time coordinate is hardcoded into the NcML, thus avoiding reading the values from the server. We can observe that OPeNDAP errors dissapear."
   ]
  },
  {
   "cell_type": "code",
   "execution_count": null,
   "id": "b57b874c-7b62-4398-9526-dba458307cc2",
   "metadata": {},
   "outputs": [],
   "source": [
    "# NcML - 2494 netCDF files inside, 29 variant_labels (29 join existing aggregations of 86 files each)\n",
    "dataset = \"https://hub.ipcc.ifca.es/thredds/dodsC/esgeva/ensemble/CMIP6/ScenarioMIP/3hr/CMIP6_ScenarioMIP_MIROC_MIROC-ES2L_ssp245_3hr_gn_v20210107/CMIP6_ScenarioMIP_MIROC_MIROC-ES2L_ssp245_3hr_tas_gn_v20210107_esgf-data02.diasjp.net.ncml\"\n",
    "\n",
    "# Substitute the URL for the one with hardcoded time values\n",
    "dataset = \"https://hub.ipcc.ifca.es/thredds/dodsC/esgeva/demo/CMIP6_ScenarioMIP_MIROC_MIROC-ES2L_ssp245_3hr_tas_gn_v20210107_esgf-data02.diasjp.net.ncml\"\n",
    "\n",
    "ds = xarray.open_dataset(dataset).chunk({\"variant_label\": 1, \"time\": 1600})\n",
    "v = ds[\"tas\"]\n",
    "v"
   ]
  },
  {
   "cell_type": "code",
   "execution_count": null,
   "id": "41f58c88-7e87-4098-ac4e-1f9e85ac14ab",
   "metadata": {},
   "outputs": [],
   "source": [
    "# Disable HTTP compression\n",
    "!sed -i '/HTTP\\.DEFLATE/{s|1|0|}' ~/.dodsrc"
   ]
  },
  {
   "cell_type": "code",
   "execution_count": null,
   "id": "356fd96c-2b41-4cdf-9a42-ddff608d3d64",
   "metadata": {},
   "outputs": [],
   "source": [
    "%time a = v.mean([\"lat\", \"lon\"]).compute(num_workers=4)"
   ]
  },
  {
   "cell_type": "markdown",
   "id": "82026ef8-0855-491c-8418-b90d36fb9620",
   "metadata": {},
   "source": [
    "## ESGF with Kerchunk\n",
    "\n",
    "OPeNDAP reads chunks from netCDF files, performs decompression on the server, and transmits the uncompressed data over the network. On the other hand, Zarr or netCDF+kerchunk both send the chunks compressed through the network.\n",
    "\n",
    "netCDF clients support HTTP compression but the compression is applied by the HTTP component, OPeNDAP still performs decompression when reading."
   ]
  },
  {
   "cell_type": "code",
   "execution_count": null,
   "id": "736749a5-165e-408b-8e47-28805ca0f39d",
   "metadata": {},
   "outputs": [],
   "source": [
    "nworkers = [2, 4, 8]\n",
    "results = []\n",
    "\n",
    "def measure(op, name, nworkers):\n",
    "    start_net = psutil.net_io_counters()\n",
    "    start_time = time.time()\n",
    "\n",
    "    op.compute(num_workers=nworkers)\n",
    "\n",
    "    end_time = time.time()\n",
    "    end_net = psutil.net_io_counters()\n",
    "\n",
    "    result = {\n",
    "        \"name\": name,\n",
    "        \"time\": end_time-start_time,\n",
    "        \"bytes_recv\": end_net.bytes_recv-start_net.bytes_recv,\n",
    "        \"bytes_sent\": end_net.bytes_sent-start_net.bytes_sent,\n",
    "        \"packets_recv\": end_net.packets_recv-start_net.packets_recv,\n",
    "        \"packets_sent\": end_net.packets_sent-start_net.packets_sent,\n",
    "        \"errin\": end_net.errin-start_net.errin,\n",
    "        \"errout\": end_net.errout-start_net.errout,\n",
    "        \"dropin\": end_net.dropin-start_net.dropin,\n",
    "        \"dropout\": end_net.dropout-start_net.dropout,\n",
    "        \"workers\": nworkers\n",
    "    }\n",
    "\n",
    "    return result"
   ]
  },
  {
   "cell_type": "markdown",
   "id": "141caa9b-cdd4-4465-b279-9a0c6b434419",
   "metadata": {},
   "source": [
    "### Kerchunk"
   ]
  },
  {
   "cell_type": "code",
   "execution_count": null,
   "id": "4bfacaae-8484-42bc-89a8-72da29a84c36",
   "metadata": {},
   "outputs": [],
   "source": [
    "ds = xarray.open_dataset(\n",
    "    \"reference://\",\n",
    "    engine=\"zarr\",\n",
    "    backend_kwargs={\n",
    "        \"consolidated\": False,\n",
    "        \"storage_options\": {\"fo\": 'CMIP6_ScenarioMIP_CNRM-CERFACS_CNRM-CM6-1_ssp245_day_tas_gr_v20190410_aims3.llnl.gov.json', \"remote_protocol\": \"https\"}\n",
    "    }).chunk({\"variant_label\": 1, \"time\": 400})\n",
    "v = ds[\"tas\"]"
   ]
  },
  {
   "cell_type": "code",
   "execution_count": null,
   "id": "4bc50be1-e0cc-45ed-adf8-f276af9ec36f",
   "metadata": {},
   "outputs": [],
   "source": [
    "for n in nworkers:\n",
    "    results.append(\n",
    "        measure(v.mean([\"lat\", \"lon\"]), \"Kerchunk\", n))"
   ]
  },
  {
   "cell_type": "markdown",
   "id": "b14ef48e-4fa1-4a5f-9518-4ec491a2bf31",
   "metadata": {},
   "source": [
    "### OPeNDAP"
   ]
  },
  {
   "cell_type": "code",
   "execution_count": null,
   "id": "0f829fc3-13d1-4446-82d5-bb7d934c05c3",
   "metadata": {},
   "outputs": [],
   "source": [
    "dataset = \"https://hub.ipcc.ifca.es/thredds/dodsC/esgeva/demo/CMIP6_ScenarioMIP_CNRM-CERFACS_CNRM-CM6-1_ssp245_day_tas_gr_v20190410_aims3.llnl.gov.ncml\"\n",
    "\n",
    "ds = xarray.open_dataset(dataset).chunk({\"variant_label\": 1, \"time\": 400})\n",
    "v = ds[\"tas\"]"
   ]
  },
  {
   "cell_type": "code",
   "execution_count": null,
   "id": "42da98f6-01a1-4e03-9136-9f589fee147e",
   "metadata": {},
   "outputs": [],
   "source": [
    "# Disable HTTP compression\n",
    "!sed -i '/HTTP\\.DEFLATE/{s|1|0|}' ~/.dodsrc"
   ]
  },
  {
   "cell_type": "code",
   "execution_count": null,
   "id": "faf80955-002d-4a1c-ae5c-95a4006e9828",
   "metadata": {},
   "outputs": [],
   "source": [
    "for n in nworkers:\n",
    "    results.append(\n",
    "        measure(v.mean([\"lat\", \"lon\"]), \"OPeNDAP\", n))"
   ]
  },
  {
   "cell_type": "markdown",
   "id": "8fe3309d-b966-403f-ab0f-2df8f2b8d4e7",
   "metadata": {},
   "source": [
    "### OPeNDAP with HTTP compression"
   ]
  },
  {
   "cell_type": "code",
   "execution_count": null,
   "id": "716fb01d-172c-4de1-9bd8-fe787ebb2267",
   "metadata": {},
   "outputs": [],
   "source": [
    "# Enable HTTP compression\n",
    "!sed -i '/HTTP\\.DEFLATE/{s|0|1|}' ~/.dodsrc"
   ]
  },
  {
   "cell_type": "code",
   "execution_count": null,
   "id": "f620f282-0ad4-4aee-8586-e89fc2e09ac9",
   "metadata": {},
   "outputs": [],
   "source": [
    "for n in nworkers:\n",
    "    results.append(\n",
    "        measure(v.mean([\"lat\", \"lon\"]), \"OPeNDAP-deflate\", n))"
   ]
  },
  {
   "cell_type": "markdown",
   "id": "e2800caa-4c33-463f-8ebb-d5dc575520b7",
   "metadata": {
    "tags": []
   },
   "source": [
    "### Analyze the results"
   ]
  },
  {
   "cell_type": "code",
   "execution_count": null,
   "id": "a3cf12d3-392e-4c22-b722-7f109ed6c046",
   "metadata": {},
   "outputs": [],
   "source": [
    "df = pd.DataFrame.from_records(results)\n",
    "df"
   ]
  },
  {
   "cell_type": "code",
   "execution_count": null,
   "id": "c73e4d75-00d5-40c9-8511-04be69f1d9ac",
   "metadata": {},
   "outputs": [],
   "source": [
    "df.to_csv(\"kerchunk-results.csv\")"
   ]
  },
  {
   "cell_type": "code",
   "execution_count": null,
   "id": "7b29d75a-3f85-4f2e-8eb6-7aed101c3d66",
   "metadata": {},
   "outputs": [],
   "source": [
    "fig, axes = plt.subplots(1, 3, figsize=(16,5))\n",
    "\n",
    "df[\"throughput\"] = (df[\"bytes_recv\"] / 2**20) / df[\"time\"]\n",
    "\n",
    "sns.barplot(data=df, y=\"time\", x=\"name\", hue=\"workers\", ax=axes[0])\n",
    "sns.barplot(data=df, y=\"bytes_recv\", x=\"name\", hue=\"workers\", ax=axes[1])\n",
    "sns.barplot(data=df, y=\"throughput\", x=\"name\", hue=\"workers\", ax=axes[2])\n",
    "\n",
    "for ax in axes:\n",
    "    ax.set_xlabel(\"\")\n",
    "    \n",
    "axes[0].set_ylabel(\"Time (seconds)\")\n",
    "axes[1].set_ylabel(\"Size (bytes)\")\n",
    "axes[2].set_ylabel(\"Throughput (MiB/s)\")"
   ]
  },
  {
   "cell_type": "code",
   "execution_count": null,
   "id": "0940602e-0507-451b-a058-ea8a02494a17",
   "metadata": {},
   "outputs": [],
   "source": []
  }
 ],
 "metadata": {
  "kernelspec": {
   "display_name": "Python 3 (ipykernel)",
   "language": "python",
   "name": "python3"
  },
  "language_info": {
   "codemirror_mode": {
    "name": "ipython",
    "version": 3
   },
   "file_extension": ".py",
   "mimetype": "text/x-python",
   "name": "python",
   "nbconvert_exporter": "python",
   "pygments_lexer": "ipython3",
   "version": "3.10.8"
  }
 },
 "nbformat": 4,
 "nbformat_minor": 5
}
