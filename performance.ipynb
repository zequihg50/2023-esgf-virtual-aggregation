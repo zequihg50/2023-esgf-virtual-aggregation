{
 "cells": [
  {
   "cell_type": "markdown",
   "id": "7aabc4b5-cbb4-4b57-90ef-a011bdeca6a0",
   "metadata": {},
   "source": [
    "# ESGF Virtual Aggregation\n",
    "\n",
    "The aim of this project is to create a ready-to-deploy TDS catalog including ALL available data in ESGF, using OPeNDAP endpoints to provide ESGF data analysis while avoiding the download of any data from remote repositories."
   ]
  },
  {
   "cell_type": "code",
   "execution_count": 1,
   "id": "ce9ee22b-6f3d-4be1-9f0e-fda2b11ac431",
   "metadata": {},
   "outputs": [],
   "source": [
    "import time\n",
    "import psutil\n",
    "\n",
    "import xarray\n",
    "import dask\n",
    "\n",
    "import numpy as np\n",
    "import pandas as pd\n",
    "import seaborn as sns\n",
    "import matplotlib.pyplot as plt\n",
    "import cartopy.crs as ccrs"
   ]
  },
  {
   "cell_type": "code",
   "execution_count": 2,
   "id": "fa5550ba-18dd-44ac-8ceb-f89c43494b25",
   "metadata": {},
   "outputs": [
    {
     "data": {
      "text/plain": [
       "<dask.config.set at 0x7fbc7b20fa00>"
      ]
     },
     "execution_count": 2,
     "metadata": {},
     "output_type": "execute_result"
    }
   ],
   "source": [
    "dask.config.set(scheduler=\"processes\")"
   ]
  },
  {
   "cell_type": "markdown",
   "id": "82026ef8-0855-491c-8418-b90d36fb9620",
   "metadata": {},
   "source": [
    "## Performance testing\n",
    "\n",
    "OPeNDAP reads chunks from netCDF files, performs decompression on the server, and transmits the uncompressed data over the network. On the other hand, Zarr or netCDF+kerchunk both send the chunks compressed through the network.\n",
    "\n",
    "netCDF clients support HTTP compression but the compression is applied by the HTTP component, OPeNDAP still performs decompression when reading."
   ]
  },
  {
   "cell_type": "code",
   "execution_count": 3,
   "id": "736749a5-165e-408b-8e47-28805ca0f39d",
   "metadata": {},
   "outputs": [],
   "source": [
    "nworkers = [2, 4, 8]\n",
    "results = []\n",
    "\n",
    "def measure(op, name, nworkers):\n",
    "    start_net = psutil.net_io_counters()\n",
    "    start_time = time.time()\n",
    "\n",
    "    op.compute(num_workers=nworkers)\n",
    "\n",
    "    end_time = time.time()\n",
    "    end_net = psutil.net_io_counters()\n",
    "\n",
    "    result = {\n",
    "        \"name\": name,\n",
    "        \"time\": end_time-start_time,\n",
    "        \"bytes_recv\": end_net.bytes_recv-start_net.bytes_recv,\n",
    "        \"bytes_sent\": end_net.bytes_sent-start_net.bytes_sent,\n",
    "        \"packets_recv\": end_net.packets_recv-start_net.packets_recv,\n",
    "        \"packets_sent\": end_net.packets_sent-start_net.packets_sent,\n",
    "        \"errin\": end_net.errin-start_net.errin,\n",
    "        \"errout\": end_net.errout-start_net.errout,\n",
    "        \"dropin\": end_net.dropin-start_net.dropin,\n",
    "        \"dropout\": end_net.dropout-start_net.dropout,\n",
    "        \"workers\": nworkers\n",
    "    }\n",
    "\n",
    "    return result"
   ]
  },
  {
   "cell_type": "markdown",
   "id": "141caa9b-cdd4-4465-b279-9a0c6b434419",
   "metadata": {},
   "source": [
    "### Kerchunk"
   ]
  },
  {
   "cell_type": "code",
   "execution_count": 4,
   "id": "4bfacaae-8484-42bc-89a8-72da29a84c36",
   "metadata": {},
   "outputs": [],
   "source": [
    "ds = xarray.open_dataset(\n",
    "    \"reference://\",\n",
    "    engine=\"zarr\",\n",
    "    backend_kwargs={\n",
    "        \"consolidated\": False,\n",
    "        \"storage_options\": {\"fo\": 'CMIP6_ScenarioMIP_CNRM-CERFACS_CNRM-CM6-1_ssp245_day_tas_gr_v20190410_aims3.llnl.gov.json', \"remote_protocol\": \"https\"}\n",
    "    }).chunk({\"variant_label\": 1, \"time\": 400})\n",
    "v = ds[\"tas\"]"
   ]
  },
  {
   "cell_type": "code",
   "execution_count": null,
   "id": "4bc50be1-e0cc-45ed-adf8-f276af9ec36f",
   "metadata": {},
   "outputs": [],
   "source": [
    "for n in nworkers:\n",
    "    results.append(\n",
    "        measure(v.mean([\"lat\", \"lon\"]), \"Kerchunk\", n))"
   ]
  },
  {
   "cell_type": "markdown",
   "id": "b14ef48e-4fa1-4a5f-9518-4ec491a2bf31",
   "metadata": {},
   "source": [
    "### OPeNDAP"
   ]
  },
  {
   "cell_type": "code",
   "execution_count": null,
   "id": "0f829fc3-13d1-4446-82d5-bb7d934c05c3",
   "metadata": {},
   "outputs": [],
   "source": [
    "dataset = \"https://hub.ipcc.ifca.es/thredds/dodsC/esgeva/demo/CMIP6_ScenarioMIP_CNRM-CERFACS_CNRM-CM6-1_ssp245_day_tas_gr_v20190410_aims3.llnl.gov.ncml\"\n",
    "\n",
    "ds = xarray.open_dataset(dataset).chunk({\"variant_label\": 1, \"time\": 400})\n",
    "v = ds[\"tas\"]"
   ]
  },
  {
   "cell_type": "code",
   "execution_count": null,
   "id": "42da98f6-01a1-4e03-9136-9f589fee147e",
   "metadata": {},
   "outputs": [],
   "source": [
    "# Disable HTTP compression\n",
    "!sed -i '/HTTP\\.DEFLATE/{s|1|0|}' ~/.dodsrc"
   ]
  },
  {
   "cell_type": "code",
   "execution_count": null,
   "id": "faf80955-002d-4a1c-ae5c-95a4006e9828",
   "metadata": {},
   "outputs": [],
   "source": [
    "for n in nworkers:\n",
    "    results.append(\n",
    "        measure(v.mean([\"lat\", \"lon\"]), \"OPeNDAP\", n))"
   ]
  },
  {
   "cell_type": "markdown",
   "id": "8fe3309d-b966-403f-ab0f-2df8f2b8d4e7",
   "metadata": {},
   "source": [
    "### OPeNDAP with HTTP compression"
   ]
  },
  {
   "cell_type": "code",
   "execution_count": null,
   "id": "716fb01d-172c-4de1-9bd8-fe787ebb2267",
   "metadata": {},
   "outputs": [],
   "source": [
    "# Enable HTTP compression\n",
    "!sed -i '/HTTP\\.DEFLATE/{s|0|1|}' ~/.dodsrc"
   ]
  },
  {
   "cell_type": "code",
   "execution_count": null,
   "id": "f620f282-0ad4-4aee-8586-e89fc2e09ac9",
   "metadata": {},
   "outputs": [],
   "source": [
    "for n in nworkers:\n",
    "    results.append(\n",
    "        measure(v.mean([\"lat\", \"lon\"]), \"OPeNDAP-deflate\", n))"
   ]
  },
  {
   "cell_type": "markdown",
   "id": "e2800caa-4c33-463f-8ebb-d5dc575520b7",
   "metadata": {
    "tags": []
   },
   "source": [
    "### Store the results"
   ]
  },
  {
   "cell_type": "code",
   "execution_count": null,
   "id": "a3cf12d3-392e-4c22-b722-7f109ed6c046",
   "metadata": {},
   "outputs": [],
   "source": [
    "df = pd.DataFrame.from_records(results)\n",
    "df"
   ]
  },
  {
   "cell_type": "code",
   "execution_count": null,
   "id": "c73e4d75-00d5-40c9-8511-04be69f1d9ac",
   "metadata": {},
   "outputs": [],
   "source": [
    "# df.to_csv(\"kerchunk-results-2.csv\", index=False)"
   ]
  },
  {
   "cell_type": "markdown",
   "id": "0e092312-b3f5-4ccf-9599-b8c7aa21bd9e",
   "metadata": {},
   "source": [
    "### Analyze the results"
   ]
  },
  {
   "cell_type": "code",
   "execution_count": null,
   "id": "ee1033b5-a083-4fa9-9485-39b84138a018",
   "metadata": {},
   "outputs": [],
   "source": [
    "df = pd.read_csv(\"kerchunk-results-2.csv\")\n",
    "df"
   ]
  },
  {
   "cell_type": "code",
   "execution_count": null,
   "id": "7b29d75a-3f85-4f2e-8eb6-7aed101c3d66",
   "metadata": {},
   "outputs": [],
   "source": [
    "with sns.axes_style(\"darkgrid\"):\n",
    "    fig, axes = plt.subplots(1, 3, figsize=(16,5))\n",
    "\n",
    "    df[\"throughput\"] = (df[\"bytes_recv\"] / 2**20) / df[\"time\"]\n",
    "\n",
    "    sns.barplot(data=df, y=\"time\", x=\"name\", hue=\"workers\", ax=axes[0])\n",
    "    sns.barplot(data=df, y=\"throughput\", x=\"name\", hue=\"workers\", ax=axes[1])\n",
    "    sns.barplot(data=df, y=\"bytes_recv\", x=\"name\", hue=\"workers\", ax=axes[2])\n",
    "\n",
    "    for ax in axes:\n",
    "        ax.set_xlabel(\"\")\n",
    "\n",
    "    axes[0].set_ylabel(\"Time (seconds)\")\n",
    "    axes[1].set_ylabel(\"Throughput (MiB/s)\")\n",
    "    axes[2].set_ylabel(\"Size (bytes)\")"
   ]
  },
  {
   "cell_type": "code",
   "execution_count": null,
   "id": "b959978a-957e-4a6d-bf48-c99216ae50d4",
   "metadata": {},
   "outputs": [],
   "source": []
  }
 ],
 "metadata": {
  "kernelspec": {
   "display_name": "Python 3 (ipykernel)",
   "language": "python",
   "name": "python3"
  },
  "language_info": {
   "codemirror_mode": {
    "name": "ipython",
    "version": 3
   },
   "file_extension": ".py",
   "mimetype": "text/x-python",
   "name": "python",
   "nbconvert_exporter": "python",
   "pygments_lexer": "ipython3",
   "version": "3.10.8"
  }
 },
 "nbformat": 4,
 "nbformat_minor": 5
}
