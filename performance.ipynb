{
 "cells": [
  {
   "cell_type": "markdown",
   "id": "7aabc4b5-cbb4-4b57-90ef-a011bdeca6a0",
   "metadata": {},
   "source": [
    "# ESGF Virtual Aggregation\n",
    "\n",
    "The aim of this project is to create a ready-to-deploy TDS catalog including ALL available data in ESGF, using OPeNDAP endpoints to provide ESGF data analysis while avoiding the download of any data from remote repositories."
   ]
  },
  {
   "cell_type": "code",
   "execution_count": null,
   "id": "ce9ee22b-6f3d-4be1-9f0e-fda2b11ac431",
   "metadata": {},
   "outputs": [],
   "source": [
    "import time\n",
    "import psutil\n",
    "\n",
    "import xarray\n",
    "import dask"
   ]
  },
  {
   "cell_type": "code",
   "execution_count": null,
   "id": "fa5550ba-18dd-44ac-8ceb-f89c43494b25",
   "metadata": {},
   "outputs": [],
   "source": [
    "dask.config.set(scheduler=\"processes\")"
   ]
  },
  {
   "cell_type": "markdown",
   "id": "82026ef8-0855-491c-8418-b90d36fb9620",
   "metadata": {},
   "source": [
    "## Performance testing\n",
    "\n",
    "OPeNDAP reads chunks from netCDF files, performs decompression on the server, and transmits the uncompressed data over the network. On the other hand, Zarr or netCDF+kerchunk both send the chunks compressed through the network.\n",
    "\n",
    "netCDF clients support HTTP compression but the compression is applied by the HTTP component, OPeNDAP still performs decompression when reading."
   ]
  },
  {
   "cell_type": "code",
   "execution_count": null,
   "id": "736749a5-165e-408b-8e47-28805ca0f39d",
   "metadata": {},
   "outputs": [],
   "source": [
    "nworkers = [2, 4, 8]\n",
    "results = []\n",
    "runs = 3\n",
    "# DKRZ - no OPeNDAP any longer\n",
    "# NCI - 503, reading from tape?\n",
    "data_nodes = [\"esgf.ceda.ac.uk\", \"aims3.llnl.gov\", \"esg1.umr-cnrm.fr\", \"esgf.nci.org.au\", \"esgf3.dkrz.de\"]\n",
    "protocol = {\n",
    "    \"esgf.ceda.ac.uk\": \"https\",\n",
    "    \"esg1.umr-cnrm.fr\": \"http\",\n",
    "    \"aims3.llnl.gov\": \"https\",\n",
    "    \"esgf3.dkrz.de\": \"https\",\n",
    "}\n",
    "\n",
    "def measure(op, name, nworkers, run, data_node):\n",
    "    start_net = psutil.net_io_counters()\n",
    "    start_time = time.time()\n",
    "\n",
    "    op.compute(num_workers=nworkers)\n",
    "\n",
    "    end_time = time.time()\n",
    "    end_net = psutil.net_io_counters()\n",
    "\n",
    "    result = {\n",
    "        \"name\": name,\n",
    "        \"run\": run,\n",
    "        \"data_node\": data_node,\n",
    "        \"time\": end_time-start_time,\n",
    "        \"bytes_recv\": end_net.bytes_recv-start_net.bytes_recv,\n",
    "        \"bytes_sent\": end_net.bytes_sent-start_net.bytes_sent,\n",
    "        \"packets_recv\": end_net.packets_recv-start_net.packets_recv,\n",
    "        \"packets_sent\": end_net.packets_sent-start_net.packets_sent,\n",
    "        \"errin\": end_net.errin-start_net.errin,\n",
    "        \"errout\": end_net.errout-start_net.errout,\n",
    "        \"dropin\": end_net.dropin-start_net.dropin,\n",
    "        \"dropout\": end_net.dropout-start_net.dropout,\n",
    "        \"workers\": nworkers\n",
    "    }\n",
    "\n",
    "    return result"
   ]
  },
  {
   "cell_type": "markdown",
   "id": "141caa9b-cdd4-4465-b279-9a0c6b434419",
   "metadata": {},
   "source": [
    "### Kerchunk"
   ]
  },
  {
   "cell_type": "code",
   "execution_count": null,
   "id": "4bc50be1-e0cc-45ed-adf8-f276af9ec36f",
   "metadata": {},
   "outputs": [],
   "source": [
    "for dn in data_nodes:\n",
    "    try:\n",
    "        for n in nworkers:\n",
    "            for r in range(runs):\n",
    "                ds = xarray.open_dataset(\n",
    "                    \"reference://\",\n",
    "                    engine=\"zarr\",\n",
    "                    backend_kwargs={\n",
    "                        \"consolidated\": False,\n",
    "                        \"storage_options\": {\"fo\": f\"kerchunks/CMIP6_ScenarioMIP_CNRM-CERFACS_CNRM-CM6-1_ssp245_day_tas_gr_v20190410_{dn}.json\", \"remote_protocol\": \"https\"}\n",
    "                    }).chunk({\"variant_label\": 1, \"time\": 400})\n",
    "                v = ds[\"tas\"]\n",
    "                results.append(measure(v.mean([\"lat\", \"lon\"]), \"Kerchunk\", n, r, dn))\n",
    "    except:\n",
    "        print(f\"Error with {dn}\")"
   ]
  },
  {
   "cell_type": "markdown",
   "id": "b14ef48e-4fa1-4a5f-9518-4ec491a2bf31",
   "metadata": {},
   "source": [
    "### OPeNDAP"
   ]
  },
  {
   "cell_type": "code",
   "execution_count": null,
   "id": "42da98f6-01a1-4e03-9136-9f589fee147e",
   "metadata": {},
   "outputs": [],
   "source": [
    "# Disable HTTP compression\n",
    "!sed -i '/HTTP\\.DEFLATE/{s|1|0|}' ~/.dodsrc"
   ]
  },
  {
   "cell_type": "code",
   "execution_count": null,
   "id": "faf80955-002d-4a1c-ae5c-95a4006e9828",
   "metadata": {},
   "outputs": [],
   "source": [
    "for dn in data_nodes:\n",
    "    try:\n",
    "        for n in nworkers:\n",
    "            for r in range(runs):\n",
    "                dataset = f\"https://hub.ipcc.ifca.es/thredds/dodsC/esgeva/demo/CMIP6_ScenarioMIP_CNRM-CERFACS_CNRM-CM6-1_ssp245_day_tas_gr_v20190410_{dn}.ncml\"\n",
    "                ds = xarray.open_dataset(dataset).chunk({\"variant_label\": 1, \"time\": 400})\n",
    "                v = ds[\"tas\"]\n",
    "                results.append(measure(v.mean([\"lat\", \"lon\"]), \"OPeNDAP\", n, r, dn))\n",
    "    except:\n",
    "        print(f\"Error with {dn}\")"
   ]
  },
  {
   "cell_type": "markdown",
   "id": "8fe3309d-b966-403f-ab0f-2df8f2b8d4e7",
   "metadata": {},
   "source": [
    "### OPeNDAP with HTTP compression"
   ]
  },
  {
   "cell_type": "code",
   "execution_count": null,
   "id": "716fb01d-172c-4de1-9bd8-fe787ebb2267",
   "metadata": {},
   "outputs": [],
   "source": [
    "# Enable HTTP compression\n",
    "!sed -i '/HTTP\\.DEFLATE/{s|0|1|}' ~/.dodsrc"
   ]
  },
  {
   "cell_type": "code",
   "execution_count": null,
   "id": "f620f282-0ad4-4aee-8586-e89fc2e09ac9",
   "metadata": {},
   "outputs": [],
   "source": [
    "for dn in data_nodes:\n",
    "    try:\n",
    "        for n in nworkers:\n",
    "            for r in range(runs):\n",
    "                dataset = f\"https://hub.ipcc.ifca.es/thredds/dodsC/esgeva/demo/CMIP6_ScenarioMIP_CNRM-CERFACS_CNRM-CM6-1_ssp245_day_tas_gr_v20190410_{dn}.ncml\"\n",
    "                ds = xarray.open_dataset(dataset).chunk({\"variant_label\": 1, \"time\": 400})\n",
    "                v = ds[\"tas\"]\n",
    "                results.append(measure(v.mean([\"lat\", \"lon\"]), \"OPeNDAP-compression\", n, r, dn))\n",
    "    except:\n",
    "        print(f\"Error with {dn}\")"
   ]
  },
  {
   "cell_type": "markdown",
   "id": "e2800caa-4c33-463f-8ebb-d5dc575520b7",
   "metadata": {
    "tags": []
   },
   "source": [
    "### Store the results"
   ]
  },
  {
   "cell_type": "code",
   "execution_count": null,
   "id": "fb497913-133d-4825-8089-4d9066143bbe",
   "metadata": {},
   "outputs": [],
   "source": [
    "import pandas as pd"
   ]
  },
  {
   "cell_type": "code",
   "execution_count": null,
   "id": "a3cf12d3-392e-4c22-b722-7f109ed6c046",
   "metadata": {},
   "outputs": [],
   "source": [
    "df = pd.DataFrame.from_records(results)\n",
    "df"
   ]
  },
  {
   "cell_type": "code",
   "execution_count": null,
   "id": "307bfe87-bbd7-4c14-a40b-768f4ce7f3ab",
   "metadata": {},
   "outputs": [],
   "source": [
    "df.to_csv(\"results.csv\", index=False)"
   ]
  }
 ],
 "metadata": {
  "kernelspec": {
   "display_name": "xarray",
   "language": "python",
   "name": "xarray"
  },
  "language_info": {
   "codemirror_mode": {
    "name": "ipython",
    "version": 3
   },
   "file_extension": ".py",
   "mimetype": "text/x-python",
   "name": "python",
   "nbconvert_exporter": "python",
   "pygments_lexer": "ipython3",
   "version": "3.11.9"
  }
 },
 "nbformat": 4,
 "nbformat_minor": 5
}
